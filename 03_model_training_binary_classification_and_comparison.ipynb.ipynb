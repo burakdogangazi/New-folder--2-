{
 "cells": [
  {
   "cell_type": "markdown",
   "id": "2f73aa7c",
   "metadata": {},
   "source": [
    "### Binary Intrusion Detection — Model Training & Comparison\n",
    "\n",
    "This notebook performs binary classification (Attack vs Benign) on the engineered CIC-IIoT dataset `combined_engineered_features.csv`.\n",
    "Primary objective: train K-Nearest Neighbors (KNN).  \n",
    "Extended objective: train and compare multiple classifiers (KNN, Random Forest, SVM, Logistic Regression) with hyperparameter tuning, compute full set of metrics, plot ROC & confusion matrices, save best models and metric summary.\n",
    "\n",
    "**Notes:**\n",
    "- Input dataset path: `data/features/combined_engineered_features.csv`\n",
    "- Output models saved to: `data/models/`\n",
    "- Metric summary saved to: `data/models/metrics_summary.csv`"
   ]
  },
  {
   "cell_type": "markdown",
   "id": "605c146a",
   "metadata": {},
   "source": [
    "#### Imports & Config"
   ]
  },
  {
   "cell_type": "code",
   "execution_count": 1,
   "id": "93102fe2",
   "metadata": {},
   "outputs": [],
   "source": [
    "import os\n",
    "import pandas as pd\n",
    "import numpy as np\n",
    "import matplotlib.pyplot as plt\n",
    "import seaborn as sns\n",
    "from sklearn.model_selection import train_test_split, RandomizedSearchCV, StratifiedKFold\n",
    "from sklearn.neighbors import KNeighborsClassifier\n",
    "from sklearn.ensemble import RandomForestClassifier\n",
    "from sklearn.svm import SVC\n",
    "from sklearn.linear_model import LogisticRegression\n",
    "from sklearn.metrics import (\n",
    "    accuracy_score, precision_score, recall_score, f1_score,\n",
    "    roc_auc_score, roc_curve, confusion_matrix\n",
    ")\n",
    "import joblib\n",
    "sns.set(style=\"whitegrid\")\n",
    "%matplotlib inline\n",
    "\n",
    "# Paths\n",
    "FEATURE_PATH = os.path.join(\"data\", \"features\", \"combined_engineered_features.csv\")\n",
    "MODELS_DIR = os.path.join(\"data\", \"models\")\n",
    "os.makedirs(MODELS_DIR, exist_ok=True)"
   ]
  },
  {
   "cell_type": "markdown",
   "id": "c4617403",
   "metadata": {},
   "source": [
    "#### Load & Prepare"
   ]
  },
  {
   "cell_type": "code",
   "execution_count": 2,
   "id": "adce377a",
   "metadata": {},
   "outputs": [
    {
     "name": "stdout",
     "output_type": "stream",
     "text": [
      "Loaded dataset: (685671, 45)\n",
      "Feature matrix shape: (685671, 40)\n",
      "Class distribution:\n",
      " label1\n",
      "Benign    400672\n",
      "Attack    284999\n",
      "Name: count, dtype: int64\n"
     ]
    }
   ],
   "source": [
    "# Cell: load data\n",
    "df = pd.read_csv(FEATURE_PATH)\n",
    "print(\"Loaded dataset:\", df.shape)\n",
    "\n",
    "# Ensure label1 exists\n",
    "assert \"label1\" in df.columns, \"label1 column not found in dataset!\"\n",
    "\n",
    "# Prepare features and binary target\n",
    "X = df.drop(columns=[\"label1\",\"label2\",\"label3\",\"label4\",\"label_full\"], errors='ignore')\n",
    "y = df[\"label1\"].apply(lambda x: 1 if str(x).lower() == \"attack\" else 0)\n",
    "\n",
    "print(\"Feature matrix shape:\", X.shape)\n",
    "print(\"Class distribution:\\n\", y.value_counts().rename({0:\"Benign\",1:\"Attack\"}))\n"
   ]
  },
  {
   "cell_type": "markdown",
   "id": "5f2c8d9e",
   "metadata": {},
   "source": [
    "#### Train/Test Split"
   ]
  },
  {
   "cell_type": "code",
   "execution_count": 3,
   "id": "97979a0d",
   "metadata": {},
   "outputs": [
    {
     "name": "stdout",
     "output_type": "stream",
     "text": [
      "Train shape: (548536, 40) Test shape: (137135, 40)\n"
     ]
    }
   ],
   "source": [
    "RANDOM_STATE = 42\n",
    "\n",
    "X_train, X_test, y_train, y_test = train_test_split(\n",
    "    X, y, test_size=0.2, random_state=42, stratify=y\n",
    ")\n",
    "print(\"Train shape:\", X_train.shape, \"Test shape:\", X_test.shape)\n"
   ]
  },
  {
   "cell_type": "markdown",
   "id": "58ed4cd0",
   "metadata": {},
   "source": [
    "#### Evaluate model (metrics + plots)"
   ]
  },
  {
   "cell_type": "code",
   "execution_count": 4,
   "id": "fdcc5f14",
   "metadata": {},
   "outputs": [],
   "source": [
    "# Cell: helper functions\n",
    "def compute_metrics(y_true, y_pred, y_prob=None):\n",
    "    acc = accuracy_score(y_true, y_pred)\n",
    "    prec = precision_score(y_true, y_pred, zero_division=0)\n",
    "    rec = recall_score(y_true, y_pred, zero_division=0)  # sensitivity\n",
    "    f1 = f1_score(y_true, y_pred, zero_division=0)\n",
    "    cm = confusion_matrix(y_true, y_pred)\n",
    "    tn, fp, fn, tp = cm.ravel()\n",
    "    spec = tn / (tn + fp) if (tn + fp) > 0 else 0.0\n",
    "    roc_auc = roc_auc_score(y_true, y_prob) if (y_prob is not None) else np.nan\n",
    "    return {\n",
    "        \"accuracy\": acc,\n",
    "        \"precision\": prec,\n",
    "        \"recall\": rec,\n",
    "        \"specificity\": spec,\n",
    "        \"f1\": f1,\n",
    "        \"roc_auc\": roc_auc,\n",
    "        \"confusion_matrix\": cm\n",
    "    }\n",
    "\n",
    "def plot_confusion(cm, labels=[\"Benign\",\"Attack\"], title=\"Confusion Matrix\"):\n",
    "    plt.figure(figsize=(4,3))\n",
    "    sns.heatmap(cm, annot=True, fmt=\"d\", cmap=\"Reds\", xticklabels=labels, yticklabels=labels)\n",
    "    plt.title(title)\n",
    "    plt.xlabel(\"Predicted\")\n",
    "    plt.ylabel(\"True\")\n",
    "    plt.show()\n",
    "\n",
    "def plot_roc(y_true, y_prob, label):\n",
    "    fpr, tpr, _ = roc_curve(y_true, y_prob)\n",
    "    auc = roc_auc_score(y_true, y_prob)\n",
    "    plt.plot(fpr, tpr, label=f\"{label} (AUC={auc:.3f})\")\n",
    "    return auc\n"
   ]
  },
  {
   "cell_type": "markdown",
   "id": "a68bd129",
   "metadata": {},
   "source": [
    "#### Define Models + Parameter Grids"
   ]
  },
  {
   "cell_type": "code",
   "execution_count": 5,
   "id": "46b25248",
   "metadata": {},
   "outputs": [],
   "source": [
    "model_defs = {}\n",
    "\n",
    "# KNN\n",
    "model_defs[\"knn\"] = {\n",
    "    \"estimator\": KNeighborsClassifier(),\n",
    "    \"param_grid\": {\n",
    "        \"n_neighbors\": [3,5,7,9,11],\n",
    "        \"weights\": [\"uniform\",\"distance\"],\n",
    "        \"metric\": [\"euclidean\",\"manhattan\",\"minkowski\"]\n",
    "    }\n",
    "}"
   ]
  },
  {
   "cell_type": "markdown",
   "id": "e24434a6",
   "metadata": {},
   "source": [
    "#### Training loop (RandomizedSearchCV per model) and evaluation"
   ]
  },
  {
   "cell_type": "code",
   "execution_count": 6,
   "id": "51bf41ce",
   "metadata": {},
   "outputs": [
    {
     "name": "stdout",
     "output_type": "stream",
     "text": [
      "\n",
      "=== Running model: KNN (Randomized Search) ===\n",
      "Fitting 3 folds for each of 3 candidates, totalling 9 fits\n",
      "Best params: {'weights': 'distance', 'n_neighbors': 7, 'metric': 'manhattan'}\n",
      "Best CV f1: 0.9503718292681381\n",
      " Saved best model to: data\\models\\knn_binary_model.pkl\n",
      "\n",
      "Confusion Matrix:\n"
     ]
    },
    {
     "data": {
      "image/png": "[encoded data removed]",
      "text/plain": [
       "<Figure size 400x300 with 2 Axes>"
      ]
     },
     "metadata": {},
     "output_type": "display_data"
    },
    {
     "name": "stdout",
     "output_type": "stream",
     "text": [
      "\n",
      "ROC Curve:\n"
     ]
    },
    {
     "data": {
      "image/png": "[encoded data removed]",
      "text/plain": [
       "<Figure size 600x500 with 1 Axes>"
      ]
     },
     "metadata": {},
     "output_type": "display_data"
    }
   ],
   "source": [
    "results = []\n",
    "MODELS_TO_RUN = [\"knn\"]  \n",
    "CV = 3\n",
    "\n",
    "for key in MODELS_TO_RUN:\n",
    "    print(f\"\\n=== Running model: {key.upper()} (Randomized Search) ===\")\n",
    "    spec = model_defs[key]\n",
    "    estimator = spec[\"estimator\"]\n",
    "    param_grid = spec[\"param_grid\"]\n",
    "\n",
    "    # Randomized Search with StratifiedKFold\n",
    "    cv = StratifiedKFold(n_splits=CV, shuffle=True, random_state=RANDOM_STATE)\n",
    "    search = RandomizedSearchCV(\n",
    "        estimator,\n",
    "        param_distributions=param_grid,\n",
    "        n_iter=3,           \n",
    "        scoring=\"f1\",\n",
    "        cv=cv,\n",
    "        n_jobs=-1,\n",
    "        random_state=RANDOM_STATE,\n",
    "        verbose=2\n",
    "    )\n",
    "    search.fit(X_train, y_train)\n",
    "\n",
    "    best = search.best_estimator_\n",
    "    print(\"Best params:\", search.best_params_)\n",
    "    print(\"Best CV f1:\", search.best_score_)\n",
    "\n",
    "    # Predict\n",
    "    y_pred = best.predict(X_test)\n",
    "    y_prob = best.predict_proba(X_test)[:,1] if hasattr(best, \"predict_proba\") else best.decision_function(X_test)\n",
    "\n",
    "    # Compute metrics\n",
    "    metrics = compute_metrics(y_test, y_pred, y_prob)\n",
    "    results.append({\n",
    "        \"model\": key,\n",
    "        \"best_params\": search.best_params_,\n",
    "        \"cv_f1\": search.best_score_,\n",
    "        \"test_accuracy\": metrics[\"accuracy\"],\n",
    "        \"test_precision\": metrics[\"precision\"],\n",
    "        \"test_recall\": metrics[\"recall\"],\n",
    "        \"test_specificity\": metrics[\"specificity\"],\n",
    "        \"test_f1\": metrics[\"f1\"],\n",
    "        \"test_roc_auc\": metrics[\"roc_auc\"]\n",
    "    })\n",
    "\n",
    "    # Save model\n",
    "    model_file = os.path.join(MODELS_DIR, f\"{key}_binary_model.pkl\")\n",
    "    joblib.dump(best, model_file)\n",
    "    print(f\" Saved best model to: {model_file}\")\n",
    "\n",
    "    # Visualization\n",
    "    print(\"\\nConfusion Matrix:\")\n",
    "    plot_confusion(metrics[\"confusion_matrix\"], title=f\"{key.upper()} Confusion Matrix\")\n",
    "\n",
    "    print(\"\\nROC Curve:\")\n",
    "    plt.figure(figsize=(6,5))\n",
    "    plot_roc(y_test, y_prob, label=key.upper())\n",
    "    plt.plot([0,1],[0,1],\"k--\", linewidth=0.7)\n",
    "    plt.xlabel(\"False Positive Rate\")\n",
    "    plt.ylabel(\"True Positive Rate\")\n",
    "    plt.title(f\"ROC Curve - {key.upper()}\")\n",
    "    plt.legend(loc=\"lower right\")\n",
    "    plt.grid(True)\n",
    "    plt.show()"
   ]
  },
  {
   "cell_type": "markdown",
   "id": "049d42f4",
   "metadata": {},
   "source": [
    "#### Summary table & save CSV"
   ]
  },
  {
   "cell_type": "code",
   "execution_count": 8,
   "id": "3a13b0d3",
   "metadata": {},
   "outputs": [
    {
     "name": "stdout",
     "output_type": "stream",
     "text": [
      "Saved metrics summary to: data\\models\\metrics_summary_binary.csv\n"
     ]
    },
    {
     "data": {
      "text/html": [
       "<style type=\"text/css\">\n",
       "</style>\n",
       "<table id=\"T_7ba66\">\n",
       "  <thead>\n",
       "    <tr>\n",
       "      <th class=\"blank level0\" >&nbsp;</th>\n",
       "      <th id=\"T_7ba66_level0_col0\" class=\"col_heading level0 col0\" >model</th>\n",
       "      <th id=\"T_7ba66_level0_col1\" class=\"col_heading level0 col1\" >best_params</th>\n",
       "      <th id=\"T_7ba66_level0_col2\" class=\"col_heading level0 col2\" >cv_f1</th>\n",
       "      <th id=\"T_7ba66_level0_col3\" class=\"col_heading level0 col3\" >test_accuracy</th>\n",
       "      <th id=\"T_7ba66_level0_col4\" class=\"col_heading level0 col4\" >test_precision</th>\n",
       "      <th id=\"T_7ba66_level0_col5\" class=\"col_heading level0 col5\" >test_recall</th>\n",
       "      <th id=\"T_7ba66_level0_col6\" class=\"col_heading level0 col6\" >test_specificity</th>\n",
       "      <th id=\"T_7ba66_level0_col7\" class=\"col_heading level0 col7\" >test_f1</th>\n",
       "      <th id=\"T_7ba66_level0_col8\" class=\"col_heading level0 col8\" >test_roc_auc</th>\n",
       "    </tr>\n",
       "  </thead>\n",
       "  <tbody>\n",
       "    <tr>\n",
       "      <th id=\"T_7ba66_level0_row0\" class=\"row_heading level0 row0\" >0</th>\n",
       "      <td id=\"T_7ba66_row0_col0\" class=\"data row0 col0\" >knn</td>\n",
       "      <td id=\"T_7ba66_row0_col1\" class=\"data row0 col1\" >{'weights': 'distance', 'n_neighbors': 7, 'metric': 'manhattan'}</td>\n",
       "      <td id=\"T_7ba66_row0_col2\" class=\"data row0 col2\" >0.9504</td>\n",
       "      <td id=\"T_7ba66_row0_col3\" class=\"data row0 col3\" >0.9642</td>\n",
       "      <td id=\"T_7ba66_row0_col4\" class=\"data row0 col4\" >0.9922</td>\n",
       "      <td id=\"T_7ba66_row0_col5\" class=\"data row0 col5\" >0.9210</td>\n",
       "      <td id=\"T_7ba66_row0_col6\" class=\"data row0 col6\" >0.9948</td>\n",
       "      <td id=\"T_7ba66_row0_col7\" class=\"data row0 col7\" >0.9553</td>\n",
       "      <td id=\"T_7ba66_row0_col8\" class=\"data row0 col8\" >0.9836</td>\n",
       "    </tr>\n",
       "  </tbody>\n",
       "</table>\n"
      ],
      "text/plain": [
       "<pandas.io.formats.style.Styler at 0x185c9d0c910>"
      ]
     },
     "execution_count": 8,
     "metadata": {},
     "output_type": "execute_result"
    }
   ],
   "source": [
    "metrics_df = pd.DataFrame(results)\n",
    "metrics_csv = os.path.join(MODELS_DIR, \"metrics_summary_binary.csv\")\n",
    "metrics_df.to_csv(metrics_csv, index=False)\n",
    "print(\"Saved metrics summary to:\", metrics_csv)\n",
    "metrics_df.style.format({\n",
    "    \"cv_f1\":\"{:.4f}\",\n",
    "    \"test_accuracy\":\"{:.4f}\",\n",
    "    \"test_precision\":\"{:.4f}\",\n",
    "    \"test_recall\":\"{:.4f}\",\n",
    "    \"test_specificity\":\"{:.4f}\",\n",
    "    \"test_f1\":\"{:.4f}\",\n",
    "    \"test_roc_auc\":\"{:.4f}\"\n",
    "})"
   ]
  }
 ],
 "metadata": {
  "kernelspec": {
   "display_name": "venv (3.10.6)",
   "language": "python",
   "name": "python3"
  },
  "language_info": {
   "codemirror_mode": {
    "name": "ipython",
    "version": 3
   },
   "file_extension": ".py",
   "mimetype": "text/x-python",
   "name": "python",
   "nbconvert_exporter": "python",
   "pygments_lexer": "ipython3",
   "version": "3.10.6"
  }
 },
 "nbformat": 4,
 "nbformat_minor": 5
}
